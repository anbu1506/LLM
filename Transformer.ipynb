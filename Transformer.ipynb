{
 "cells": [
  {
   "cell_type": "code",
   "execution_count": 53,
   "metadata": {},
   "outputs": [],
   "source": [
    "import torch\n",
    "import torch.nn as nn"
   ]
  },
  {
   "cell_type": "code",
   "execution_count": 54,
   "metadata": {},
   "outputs": [],
   "source": [
    "class config:\n",
    "    embedding_dim = 100\n",
    "    context_size = 100\n",
    "    "
   ]
  },
  {
   "cell_type": "code",
   "execution_count": 55,
   "metadata": {},
   "outputs": [],
   "source": [
    "class WordEmbedding(nn.Module):\n",
    "    def __init__(self, vocab_size, embedding_dim):\n",
    "        super(WordEmbedding, self).__init__()\n",
    "        self.embed = nn.Embedding(vocab_size, embedding_dim)\n",
    "        \n",
    "    def forward(self, x):\n",
    "        return self.embed(x)"
   ]
  },
  {
   "cell_type": "code",
   "execution_count": 56,
   "metadata": {},
   "outputs": [],
   "source": [
    "class PositionalEncoding(nn.Module):\n",
    "    def __init__(self, embedding_dim, max_len=5000):\n",
    "        super(PositionalEncoding, self).__init__()\n",
    "        pe = torch.zeros(max_len, embedding_dim)\n",
    "        position = torch.arange(0, max_len).unsqueeze(1).float()\n",
    "        div_term = torch.exp(torch.arange(0, embedding_dim, 2).float() * (-torch.log(torch.tensor(10000.0)) / embedding_dim))\n",
    "        pe[:, 0::2] = torch.sin(position * div_term)\n",
    "        pe[:, 1::2] = torch.cos(position * div_term)\n",
    "        pe = pe.unsqueeze(0)\n",
    "        self.register_buffer('pe', pe)\n",
    "        \n",
    "    def forward(self, x):\n",
    "        return x + self.pe[:, :x.size(1)]"
   ]
  },
  {
   "cell_type": "code",
   "execution_count": 57,
   "metadata": {},
   "outputs": [],
   "source": [
    "class Attention(nn.Module):\n",
    "    def __init__(self,embedding_dim):\n",
    "        super(Attention, self).__init__()\n",
    "        self.wq = nn.Linear(embedding_dim, embedding_dim)\n",
    "        self.wk = nn.Linear(embedding_dim, embedding_dim)\n",
    "        self.wv = nn.Linear(embedding_dim, embedding_dim)\n",
    "        self.wo = nn.Linear(embedding_dim, embedding_dim)\n",
    "\n",
    "        self.residual_dropout = nn.Dropout(0.1)\n",
    "        self.attention_dropout = nn.Dropout(0.1)\n",
    "\n",
    "        mask = torch.full(( 1, config.context_size, config.context_size), float(\"-inf\"))\n",
    "        mask = torch.triu(mask, diagonal=1)\n",
    "        self.register_buffer(\"mask\",mask)\n",
    "    \n",
    "    def forward(self, x):\n",
    "\n",
    "        seq_len = x.size(1)\n",
    "\n",
    "        q = self.wq(x)\n",
    "        k = self.wk(x)\n",
    "        v = self.wv(x)\n",
    "        \n",
    "        scores = torch.matmul(q, k.transpose(1, 2))\n",
    "        scores = scores / (q.size(-1) ** 0.5)\n",
    "        scores = scores + self.mask[:, :seq_len, :seq_len]\n",
    "        scores = torch.softmax(scores, dim=-1).type_as(q)\n",
    "        scores = self.attention_dropout(scores)\n",
    "        attention = torch.matmul(scores, v)\n",
    "\n",
    "        attention = self.wo(attention)\n",
    "        return self.residual_dropout(attention)"
   ]
  },
  {
   "cell_type": "code",
   "execution_count": 58,
   "metadata": {},
   "outputs": [],
   "source": [
    "class FeedForward(nn.Module):\n",
    "    def __init__(self,embedding_dim,hidden_dim):\n",
    "        super(FeedForward, self).__init__()\n",
    "        self.ff1 = nn.Linear(embedding_dim, hidden_dim)\n",
    "        self.ff2 = nn.Linear(embedding_dim, hidden_dim)\n",
    "        self.ff3 = nn.Linear(hidden_dim, embedding_dim)\n",
    "        self.dropout = nn.Dropout(0.1)\n",
    "\n",
    "    def forward(self, x):\n",
    "        return self.dropout(self.ff3(torch.relu(self.ff1)*self.ff2))"
   ]
  },
  {
   "cell_type": "code",
   "execution_count": 59,
   "metadata": {},
   "outputs": [],
   "source": [
    "class TransformerBlock(nn.Module):\n",
    "    def __init__(self,embedding_dim,hidden_dim):\n",
    "        super(TransformerBlock, self).__init__()\n",
    "        self.attention = Attention(embedding_dim)\n",
    "        self.feedforward = FeedForward(embedding_dim,hidden_dim)\n",
    "        self.layer_norm1 = nn.LayerNorm(embedding_dim)\n",
    "        self.layer_norm2 = nn.LayerNorm(embedding_dim)\n",
    "\n",
    "    def forward(self, x):\n",
    "        x = x + self.attention(self.layer_norm1(x))\n",
    "        x = x + self.feedforward(self.layer_norm2(x))\n",
    "        return x"
   ]
  },
  {
   "cell_type": "code",
   "execution_count": 60,
   "metadata": {},
   "outputs": [],
   "source": [
    "class Transformer(nn.Module):\n",
    "    def __init__(self,vocab_size,embedding_dim,hidden_dim):\n",
    "        super(Transformer, self).__init__()\n",
    "        self.word_embedding = WordEmbedding(vocab_size,embedding_dim)\n",
    "        self.positional_encoding = PositionalEncoding(embedding_dim)\n",
    "        self.layers = nn.ModuleList()\n",
    "        for _ in range(6):\n",
    "            self.layers.append(TransformerBlock(embedding_dim,hidden_dim))\n",
    "        self.layer_norm = nn.LayerNorm(embedding_dim)\n",
    "        self.out = nn.Linear(embedding_dim, vocab_size,bias=False)\n",
    "\n",
    "    def forward(self, x):\n",
    "        x = self.word_embedding(x)\n",
    "        x = self.positional_encoding(x)\n",
    "        for layer in self.layers:\n",
    "            x = layer(x)\n",
    "        x = self.layer_norm(x)\n",
    "        return self.out(x)"
   ]
  },
  {
   "cell_type": "code",
   "execution_count": 61,
   "metadata": {},
   "outputs": [],
   "source": [
    "jarvis = Transformer(100,100,100)"
   ]
  },
  {
   "cell_type": "code",
   "execution_count": 62,
   "metadata": {},
   "outputs": [],
   "source": [
    "criterion = nn.CrossEntropyLoss()\n",
    "optimizer = torch.optim.Adam(jarvis.parameters(), lr=0.001)"
   ]
  },
  {
   "cell_type": "code",
   "execution_count": 63,
   "metadata": {},
   "outputs": [],
   "source": [
    "def train(epoch,dataloader):\n",
    "    for i in range(epoch):\n",
    "        for context, target in dataloader:\n",
    "            optimizer.zero_grad()\n",
    "            output = jarvis(context)\n",
    "            loss = criterion(output, target)\n",
    "            loss.backward()\n",
    "            optimizer.step()\n",
    "            print(loss.item())"
   ]
  },
  {
   "cell_type": "code",
   "execution_count": null,
   "metadata": {},
   "outputs": [],
   "source": []
  }
 ],
 "metadata": {
  "kernelspec": {
   "display_name": "gpt-2",
   "language": "python",
   "name": "python3"
  },
  "language_info": {
   "codemirror_mode": {
    "name": "ipython",
    "version": 3
   },
   "file_extension": ".py",
   "mimetype": "text/x-python",
   "name": "python",
   "nbconvert_exporter": "python",
   "pygments_lexer": "ipython3",
   "version": "3.10.12"
  }
 },
 "nbformat": 4,
 "nbformat_minor": 2
}
